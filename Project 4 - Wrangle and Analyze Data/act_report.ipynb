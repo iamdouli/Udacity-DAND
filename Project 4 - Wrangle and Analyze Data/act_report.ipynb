{
 "cells": [
  {
   "cell_type": "markdown",
   "metadata": {},
   "source": [
    "# Project:  Wrangle and Analyze Twitter Data\n",
    "<hr style=\"border:1px solid gray\"> </hr>\n",
    "\n",
    "## Table of Contents\n",
    "\n",
    "* ### [Introduction](#intro)\n",
    "* ### [Analysis and Visuals](#analysis_viz)\n",
    "* ### [Insights](#insights)\n",
    "* ### [Conclusion](#conclusion)"
   ]
  },
  {
   "cell_type": "markdown",
   "metadata": {},
   "source": [
    "<a id='intro'></a>\n",
    "## Introduction"
   ]
  },
  {
   "cell_type": "markdown",
   "metadata": {},
   "source": [
    "At this part of the project, we aimed to analyze and visualise Twitter dataset that we Wrangled and cleaned before.\n",
    "The Wrangling and cleaning steps are documented in `wrangle_report.html` file.  \n",
    "\n",
    "\n",
    "The data we aime to Analyze is about [@dog_rates](https://twitter.com/dog_rates), [WeRateDogs](https://en.wikipedia.org/wiki/WeRateDogs) is a Twitter account\tthat rates people's\tdogs with a humorous comment about the dog."
   ]
  },
  {
   "cell_type": "markdown",
   "metadata": {},
   "source": [
    "<a id='analysis_viz'></a>\n",
    "## Analysis and Visuals"
   ]
  },
  {
   "cell_type": "markdown",
   "metadata": {},
   "source": [
    "The purpose of Analyzing twitter dataset is to derive some insights from it, These insights can be helpful in decision making. \n",
    "The twitter dataset contains different features combined from different sources to form a complete and consistent dataset, in our Analysis we started with defining questions, then see which features and type of analysis we can use to answer the following questions:  \n",
    "\n",
    "\n",
    "### Questions\n",
    ">1. How does the ratings affects tweet likes/retweets?   \n",
    ">2. Most frequent words in tweets?\n",
    ">3. Top rated dog breed?"
   ]
  },
  {
   "cell_type": "markdown",
   "metadata": {},
   "source": [
    "1. **How does the ratings affects tweet likes/retweets?**  \n",
    "\n",
    "To determine if there are any relationships between the ratings and like or retweets, we implemented two bivariate visualisations (a scatter plot), one for `rating_numerator` vs `favorite_count` and the other for `rating_numerator` vs `retweet_count` and that gave us these plots:\n",
    "<img src=\"img/bivariate_analysis.png\"\n",
    "     alt=\"scatter plots\"\n",
    "     style=\"float: left; margin-right: 10px;\" />"
   ]
  },
  {
   "cell_type": "markdown",
   "metadata": {},
   "source": [
    "This can be interpreted as a weak correlation between rating and likes/retweets. Therefore the rating tweets do not affect the likes or retweets."
   ]
  },
  {
   "cell_type": "markdown",
   "metadata": {},
   "source": [
    "2. **Most frequent words in tweets?**  \n",
    "\n",
    "Knowing the frequent word in tweets is very helpful in sentiment analysis use cases, and their different approaches to deal with text data, in our case we kept things simple and used a word cloud to see frequents words.  \n",
    "\n",
    "<img src=\"img/dog_wrdcloud.png\"\n",
    "     alt=\"tweets word cloud\"\n",
    "     style=\"float: left; margin-right: 10px;\"/>"
   ]
  },
  {
   "cell_type": "markdown",
   "metadata": {},
   "source": [
    "And yeah... we can easily identify that these words are related to dog topic. For example **pupper, pet, doggo, pup...**"
   ]
  },
  {
   "cell_type": "markdown",
   "metadata": {},
   "source": [
    "3. **Top rated dog breeds**"
   ]
  },
  {
   "cell_type": "markdown",
   "metadata": {},
   "source": [
    "We can get more specific information about dogs like most rated dog by its name or its breed,  \n",
    "this type of analysis is multivariate analysis.  \n",
    "\n",
    "This can be done with pandas functions like `.sort_values()` or `.groupby()`, and that give us some interesting information. \n",
    "To list a few:\n",
    "* **Atticus** is the dog who got highest ratings.\n",
    "* A **Labrador Retriever** dog made highest likes and retweets and we can't argue how cute this type of dog is. \n",
    "\n",
    "We can do more of that by filtering each dog breed with its sum of likes and retweets, a bar plot comes in handy this time.\n",
    "<img src=\"img/multivariate_analysis.png\"\n",
    "     alt=\"dog breed aggregation\"\n",
    "     style=\"float: left; margin-right: 10px;\"/>"
   ]
  },
  {
   "cell_type": "markdown",
   "metadata": {},
   "source": [
    "<a id='insights'></a>\n",
    "## Insights"
   ]
  },
  {
   "cell_type": "markdown",
   "metadata": {},
   "source": [
    "* Dog rating does not affect likes and retweets( at least in this case).\n",
    "* Most frequent words in text, tweet are related to dogs.\n",
    "* **Labrador Retriever** got the highest ratings compared to other dog breeds, and the Basset breed made the highest likes and retweets"
   ]
  }
 ],
 "metadata": {
  "kernelspec": {
   "display_name": "Python 3",
   "language": "python",
   "name": "python3"
  },
  "language_info": {
   "codemirror_mode": {
    "name": "ipython",
    "version": 3
   },
   "file_extension": ".py",
   "mimetype": "text/x-python",
   "name": "python",
   "nbconvert_exporter": "python",
   "pygments_lexer": "ipython3",
   "version": "3.8.3"
  }
 },
 "nbformat": 4,
 "nbformat_minor": 4
}
